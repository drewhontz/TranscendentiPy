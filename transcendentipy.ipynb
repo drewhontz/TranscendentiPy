{
 "cells": [
  {
   "cell_type": "code",
   "execution_count": 27,
   "metadata": {
    "collapsed": true
   },
   "outputs": [],
   "source": [
    "import markovify\n",
    "from bs4 import BeautifulSoup\n",
    "from urllib2 import urlopen"
   ]
  },
  {
   "cell_type": "code",
   "execution_count": 66,
   "metadata": {
    "collapsed": false
   },
   "outputs": [],
   "source": [
    "def get_poem_links_by_author_url(url):\n",
    "    webpage = urlopen(url).read()\n",
    "    soup = BeautifulSoup(webpage, 'html.parser')\n",
    "    prefix = \"https://www.poemhunter.com\"\n",
    "\n",
    "    # grab links \n",
    "    link_table = soup.find(\"table\", class_ = \"poems\")\n",
    "    list_of_poem_links = [prefix + a.get(\"href\") for a in link_table.find_all(\"a\")]\n",
    "    \n",
    "    # grab pages\n",
    "    pages = soup.find(\"div\", class_ = \"pagination mb-15\").find_all(\"a\")[2:]\n",
    "   \n",
    "    for page in pages:\n",
    "        wp = urlopen(prefix + page.get(\"href\")).read()\n",
    "        soup = BeautifulSoup(wp, 'html.parser')\n",
    "        link_table = soup.find(\"table\", class_ = \"poems\")\n",
    "        list_of_poem_links.extend([prefix + a.get(\"href\") for a in link_table.find_all(\"a\")])\n",
    "        \n",
    "    return list_of_poem_links\n",
    "\n",
    "def get_poem_from_link(url):\n",
    "    webpage = urlopen(url).read()\n",
    "    soup = BeautifulSoup(webpage, 'html.parser')\n",
    "    \n",
    "    poem = soup.find('div', class_=\"KonaBody\").find(\"p\").text\n",
    "    return poem.encode('utf-8')\n",
    "        "
   ]
  },
  {
   "cell_type": "code",
   "execution_count": 62,
   "metadata": {
    "collapsed": false
   },
   "outputs": [
    {
     "name": "stdout",
     "output_type": "stream",
     "text": [
      "\r\n",
      "                        There is health in thy gray wing,Health of nature’s furnishing.Say, thou modern-winged antique,Was thy mistress ever sick?In each heaving of thy wingThou dost health and leisure bring,Thou dost waive disease and painAnd resume new life again. \r\n",
      "                        \n",
      "\n"
     ]
    }
   ],
   "source": [
    "get_poem_from_link(poem_links[0])"
   ]
  },
  {
   "cell_type": "code",
   "execution_count": 68,
   "metadata": {
    "collapsed": true
   },
   "outputs": [],
   "source": [
    "%%time\n",
    "url = [\"https://www.poemhunter.com/henry-david-thoreau/poems/\",\n",
    "       \"https://www.poemhunter.com/walt-whitman/poems/\",\n",
    "       \"https://www.poemhunter.com/ralph-waldo-emerson/poems/\"]\n",
    "\n",
    "poem_links = []\n",
    "for u in url:\n",
    "    poem_links.extend(get_poem_links_by_author_url(u))\n",
    "    \n",
    "\n",
    "for poem in poem_links:\n",
    "    with open(\"corpus.txt\", \"ab\") as file:\n",
    "        file.write(get_poem_from_link(poem) + \"\\n\")\n",
    "\n",
    "import Tkinter\n",
    "Tkinter.Tk().bell()"
   ]
  },
  {
   "cell_type": "code",
   "execution_count": 74,
   "metadata": {
    "collapsed": false
   },
   "outputs": [
    {
     "name": "stdout",
     "output_type": "stream",
     "text": [
      "O the farmer's day;Shall sorrow put my woods in song And tell what's there enjoyed, All men would to my pride from them I fear; But the one to his vaster home.With a vermilion pencil mark the ranklings of jealousy and unrequited love, attempted to be with them!\n",
      "I meant that you are he or she has no right to a sight?\n",
      "DELICATE cluster! flag of the army.\n",
      "Great is Law--great are the night descended?\n",
      "O, I hate the swift-running eddies that would become an orator as to become a man; And I answer for him in the same room with you, for all you cannot trick me.\n"
     ]
    }
   ],
   "source": [
    "import markovify\n",
    "\n",
    "# Get raw text as string.\n",
    "with open(\"corpus.txt\") as f:\n",
    "    text = f.read()\n",
    "\n",
    "# Build the model.\n",
    "text_model = markovify.Text(text)\n",
    "\n",
    "# Print five randomly-generated sentences\n",
    "for i in range(5):\n",
    "    print(text_model.make_sentence())"
   ]
  },
  {
   "cell_type": "code",
   "execution_count": null,
   "metadata": {
    "collapsed": true
   },
   "outputs": [],
   "source": []
  }
 ],
 "metadata": {
  "anaconda-cloud": {},
  "kernelspec": {
   "display_name": "Python [conda env:DAND]",
   "language": "python",
   "name": "conda-env-DAND-py"
  },
  "language_info": {
   "codemirror_mode": {
    "name": "ipython",
    "version": 2
   },
   "file_extension": ".py",
   "mimetype": "text/x-python",
   "name": "python",
   "nbconvert_exporter": "python",
   "pygments_lexer": "ipython2",
   "version": "2.7.13"
  }
 },
 "nbformat": 4,
 "nbformat_minor": 1
}
